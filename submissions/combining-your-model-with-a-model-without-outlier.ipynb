{
 "cells": [
  {
   "cell_type": "markdown",
   "metadata": {
    "_uuid": "9e97164a7191d9d43ba8158c0f7e13aa455a0ce9"
   },
   "source": [
    "# Combining your model with a model without outlier"
   ]
  },
  {
   "cell_type": "markdown",
   "metadata": {
    "_uuid": "e0f082732acbf893c2cd4c07200904effcfde928"
   },
   "source": [
    "Assuming that you have already finished your feature engineering and you have two dataset:\n",
    "\n",
    "- ***train_clean.csv***\n",
    "- ***test_clean.csv***\n",
    "\n",
    "In train_clean.csv, there's an **'outlier' column with values 1/0. **\n",
    "\n",
    "Besides, you have your best LB submission:\n",
    "- ***3.695.csv*** (thanks  **Ashish Patel(阿希什)** My original model can't rich this score, so I try to use the idea to improve your submission to get better LB socre.）\n",
    "\n",
    "The flows of this pipline is as follows:\n",
    "1. Training a model using a training set without outliers. (we get: **Model_1**)\n",
    "2. Training a model to classify outliers. (we get: **Model_2**)\n",
    "3. Using **Model_2** to predict whether an card_id in test set is an outliers. (we get:**Outlier_Likelyhood**)\n",
    "4. Spliting out the card_id from **Outlier_Likelyhood** with top 10% (or some other ratio) score. (we get:**Outlier_ID**)\n",
    "5. Combining your submission using your **best submission (that is, your best model)** to predict **Outlier_ID** in test set and using **Model_1** to predict the rest of the test set.\n",
    "\n",
    "The  basic idea behind this pipline is:\n",
    "1. Training model without outliers make the model more accurate for non-outliers.\n",
    "2. A great proportion of the error is caused by outliers, so we need to use a model training with outliers to predict them. How to find them out? build a classifier!"
   ]
  },
  {
   "cell_type": "code",
   "execution_count": 3,
   "metadata": {
    "_uuid": "7dd3ea3236069cf9706e377d6594c39b5e5a5507"
   },
   "outputs": [
    {
     "name": "stderr",
     "output_type": "stream",
     "text": [
      "/anaconda/envs/tensorflow/lib/python3.6/importlib/_bootstrap.py:219: RuntimeWarning: numpy.dtype size changed, may indicate binary incompatibility. Expected 96, got 88\n",
      "  return f(*args, **kwds)\n",
      "/anaconda/envs/tensorflow/lib/python3.6/site-packages/lightgbm/__init__.py:46: UserWarning: Starting from version 2.2.1, the library file in distribution wheels for macOS is built by the Apple Clang (Xcode_8.3.1) compiler.\n",
      "This means that in case of installing LightGBM from PyPI via the ``pip install lightgbm`` command, you don't need to install the gcc compiler anymore.\n",
      "Instead of that, you need to install the OpenMP library, which is required for running LightGBM on the system with the Apple Clang compiler.\n",
      "You can install the OpenMP library by the following command: ``brew install libomp``.\n",
      "  \"You can install the OpenMP library by the following command: ``brew install libomp``.\", UserWarning)\n"
     ]
    }
   ],
   "source": [
    "import numpy as np\n",
    "import pandas as pd\n",
    "import time\n",
    "import lightgbm as lgb\n",
    "from sklearn.model_selection import StratifiedKFold, KFold\n",
    "from sklearn.metrics import mean_squared_error\n",
    "from sklearn.metrics import log_loss"
   ]
  },
  {
   "cell_type": "markdown",
   "metadata": {
    "_uuid": "fcf141a7658f4089b1de2822ba41da9646c73835"
   },
   "source": [
    "# Part 1 Training Model Without Outliers"
   ]
  },
  {
   "cell_type": "code",
   "execution_count": 4,
   "metadata": {
    "_uuid": "aef67435b765a8c55e8a7653b47ad8d9071ea11b"
   },
   "outputs": [
    {
     "name": "stdout",
     "output_type": "stream",
     "text": [
      "CPU times: user 18.8 s, sys: 1.61 s, total: 20.4 s\n",
      "Wall time: 21.6 s\n"
     ]
    }
   ],
   "source": [
    "%%time\n",
    "df_train = pd.read_csv('transformed_train_data.csv')\n",
    "df_test = pd.read_csv('transformed_test_data.csv')"
   ]
  },
  {
   "cell_type": "code",
   "execution_count": 5,
   "metadata": {},
   "outputs": [],
   "source": [
    "df_train['outliers'] = (df_train['target'] < -30).astype('int64')"
   ]
  },
  {
   "cell_type": "markdown",
   "metadata": {
    "_uuid": "18d93d315eee398fb1cff4ad8d115c21d359cd49"
   },
   "source": [
    "## filtering out outliers"
   ]
  },
  {
   "cell_type": "code",
   "execution_count": 6,
   "metadata": {
    "_uuid": "3eb5ac784a25271b3433f6371d7b46cdabb420b5"
   },
   "outputs": [],
   "source": [
    "df_train = df_train[df_train['outliers'] == 0]\n",
    "target = df_train['target']\n",
    "del df_train['target']\n",
    "features = [c for c in df_train.columns if c not in ['card_id', 'first_active_month','outliers']]\n",
    "categorical_feats = [c for c in features if 'feature_' in c]"
   ]
  },
  {
   "cell_type": "markdown",
   "metadata": {
    "_uuid": "8256bfde460ac4adc45852228a12194b2be6b497"
   },
   "source": [
    "## parameters"
   ]
  },
  {
   "cell_type": "code",
   "execution_count": 7,
   "metadata": {
    "_uuid": "a0ecb4a6605d477b290275f404a508bfacd614e0"
   },
   "outputs": [],
   "source": [
    "param = {'objective':'regression',\n",
    "         'num_leaves': 31,\n",
    "         'min_data_in_leaf': 25,\n",
    "         'max_depth': 7,\n",
    "         'learning_rate': 0.01,\n",
    "         'lambda_l1':0.13,\n",
    "         \"boosting\": \"gbdt\",\n",
    "         \"feature_fraction\":0.85,\n",
    "         'bagging_freq':8,\n",
    "         \"bagging_fraction\": 0.9 ,\n",
    "         \"metric\": 'rmse',\n",
    "         \"verbosity\": -1,\n",
    "         \"random_state\": 2333}"
   ]
  },
  {
   "cell_type": "markdown",
   "metadata": {
    "_uuid": "204231995912b388ad8d6bed1c602c6fa29ebb4a"
   },
   "source": [
    "## training model"
   ]
  },
  {
   "cell_type": "code",
   "execution_count": 8,
   "metadata": {
    "_uuid": "1f153534282a64ea904b599143b023f56bf01e05",
    "scrolled": true
   },
   "outputs": [
    {
     "name": "stdout",
     "output_type": "stream",
     "text": [
      "fold 0\n",
      "Training until validation scores don't improve for 200 rounds.\n",
      "[100]\ttraining's rmse: 1.60829\tvalid_1's rmse: 1.61962\n",
      "[200]\ttraining's rmse: 1.5775\tvalid_1's rmse: 1.59335\n",
      "[300]\ttraining's rmse: 1.56206\tvalid_1's rmse: 1.58225\n",
      "[400]\ttraining's rmse: 1.55129\tvalid_1's rmse: 1.57565\n",
      "[500]\ttraining's rmse: 1.54312\tvalid_1's rmse: 1.57182\n",
      "[600]\ttraining's rmse: 1.53633\tvalid_1's rmse: 1.56944\n",
      "[700]\ttraining's rmse: 1.5303\tvalid_1's rmse: 1.56763\n",
      "[800]\ttraining's rmse: 1.52504\tvalid_1's rmse: 1.56655\n",
      "[900]\ttraining's rmse: 1.52021\tvalid_1's rmse: 1.56575\n",
      "[1000]\ttraining's rmse: 1.51562\tvalid_1's rmse: 1.56498\n",
      "[1100]\ttraining's rmse: 1.51132\tvalid_1's rmse: 1.5646\n",
      "[1200]\ttraining's rmse: 1.50705\tvalid_1's rmse: 1.56435\n",
      "[1300]\ttraining's rmse: 1.50316\tvalid_1's rmse: 1.56417\n",
      "[1400]\ttraining's rmse: 1.49923\tvalid_1's rmse: 1.56391\n",
      "[1500]\ttraining's rmse: 1.49521\tvalid_1's rmse: 1.56383\n",
      "[1600]\ttraining's rmse: 1.49136\tvalid_1's rmse: 1.56392\n",
      "[1700]\ttraining's rmse: 1.48751\tvalid_1's rmse: 1.56383\n",
      "[1800]\ttraining's rmse: 1.48373\tvalid_1's rmse: 1.56383\n",
      "[1900]\ttraining's rmse: 1.48005\tvalid_1's rmse: 1.56383\n",
      "[2000]\ttraining's rmse: 1.47648\tvalid_1's rmse: 1.56375\n",
      "[2100]\ttraining's rmse: 1.47275\tvalid_1's rmse: 1.56371\n",
      "[2200]\ttraining's rmse: 1.46918\tvalid_1's rmse: 1.56362\n",
      "[2300]\ttraining's rmse: 1.46587\tvalid_1's rmse: 1.5636\n",
      "[2400]\ttraining's rmse: 1.46232\tvalid_1's rmse: 1.56354\n",
      "[2500]\ttraining's rmse: 1.45896\tvalid_1's rmse: 1.56354\n",
      "[2600]\ttraining's rmse: 1.45566\tvalid_1's rmse: 1.5634\n",
      "[2700]\ttraining's rmse: 1.45218\tvalid_1's rmse: 1.5634\n",
      "[2800]\ttraining's rmse: 1.44873\tvalid_1's rmse: 1.5634\n",
      "[2900]\ttraining's rmse: 1.44539\tvalid_1's rmse: 1.56333\n",
      "[3000]\ttraining's rmse: 1.44229\tvalid_1's rmse: 1.56323\n",
      "[3100]\ttraining's rmse: 1.43905\tvalid_1's rmse: 1.56323\n",
      "[3200]\ttraining's rmse: 1.43601\tvalid_1's rmse: 1.56319\n",
      "[3300]\ttraining's rmse: 1.43301\tvalid_1's rmse: 1.56322\n",
      "Early stopping, best iteration is:\n",
      "[3176]\ttraining's rmse: 1.43675\tvalid_1's rmse: 1.56315\n",
      "fold 1\n",
      "Training until validation scores don't improve for 200 rounds.\n",
      "[100]\ttraining's rmse: 1.61367\tvalid_1's rmse: 1.59747\n",
      "[200]\ttraining's rmse: 1.58308\tvalid_1's rmse: 1.57164\n",
      "[300]\ttraining's rmse: 1.56697\tvalid_1's rmse: 1.56023\n",
      "[400]\ttraining's rmse: 1.5564\tvalid_1's rmse: 1.55448\n",
      "[500]\ttraining's rmse: 1.54805\tvalid_1's rmse: 1.55085\n",
      "[600]\ttraining's rmse: 1.5411\tvalid_1's rmse: 1.54881\n",
      "[700]\ttraining's rmse: 1.53538\tvalid_1's rmse: 1.54744\n",
      "[800]\ttraining's rmse: 1.52956\tvalid_1's rmse: 1.5465\n",
      "[900]\ttraining's rmse: 1.52441\tvalid_1's rmse: 1.54604\n",
      "[1000]\ttraining's rmse: 1.51971\tvalid_1's rmse: 1.54567\n",
      "[1100]\ttraining's rmse: 1.51494\tvalid_1's rmse: 1.54533\n",
      "[1200]\ttraining's rmse: 1.51057\tvalid_1's rmse: 1.54513\n",
      "[1300]\ttraining's rmse: 1.50647\tvalid_1's rmse: 1.54514\n",
      "[1400]\ttraining's rmse: 1.50263\tvalid_1's rmse: 1.54496\n",
      "[1500]\ttraining's rmse: 1.49852\tvalid_1's rmse: 1.54481\n",
      "[1600]\ttraining's rmse: 1.49457\tvalid_1's rmse: 1.54471\n",
      "[1700]\ttraining's rmse: 1.49066\tvalid_1's rmse: 1.54464\n",
      "[1800]\ttraining's rmse: 1.48677\tvalid_1's rmse: 1.54462\n",
      "[1900]\ttraining's rmse: 1.48313\tvalid_1's rmse: 1.54452\n",
      "[2000]\ttraining's rmse: 1.47927\tvalid_1's rmse: 1.54439\n",
      "[2100]\ttraining's rmse: 1.47583\tvalid_1's rmse: 1.54428\n",
      "[2200]\ttraining's rmse: 1.47218\tvalid_1's rmse: 1.54435\n",
      "[2300]\ttraining's rmse: 1.46888\tvalid_1's rmse: 1.54433\n",
      "Early stopping, best iteration is:\n",
      "[2118]\ttraining's rmse: 1.47518\tvalid_1's rmse: 1.54427\n",
      "fold 2\n",
      "Training until validation scores don't improve for 200 rounds.\n",
      "[100]\ttraining's rmse: 1.60632\tvalid_1's rmse: 1.62819\n",
      "[200]\ttraining's rmse: 1.57643\tvalid_1's rmse: 1.60085\n",
      "[300]\ttraining's rmse: 1.56085\tvalid_1's rmse: 1.58884\n",
      "[400]\ttraining's rmse: 1.55062\tvalid_1's rmse: 1.58247\n",
      "[500]\ttraining's rmse: 1.54232\tvalid_1's rmse: 1.57822\n",
      "[600]\ttraining's rmse: 1.5355\tvalid_1's rmse: 1.57559\n",
      "[700]\ttraining's rmse: 1.52946\tvalid_1's rmse: 1.57386\n",
      "[800]\ttraining's rmse: 1.52417\tvalid_1's rmse: 1.57269\n",
      "[900]\ttraining's rmse: 1.51919\tvalid_1's rmse: 1.57183\n",
      "[1000]\ttraining's rmse: 1.51458\tvalid_1's rmse: 1.57144\n",
      "[1100]\ttraining's rmse: 1.51022\tvalid_1's rmse: 1.5712\n",
      "[1200]\ttraining's rmse: 1.50597\tvalid_1's rmse: 1.57069\n",
      "[1300]\ttraining's rmse: 1.50187\tvalid_1's rmse: 1.57051\n",
      "[1400]\ttraining's rmse: 1.49772\tvalid_1's rmse: 1.57025\n",
      "[1500]\ttraining's rmse: 1.49379\tvalid_1's rmse: 1.57011\n",
      "[1600]\ttraining's rmse: 1.48981\tvalid_1's rmse: 1.56996\n",
      "[1700]\ttraining's rmse: 1.48613\tvalid_1's rmse: 1.56975\n",
      "[1800]\ttraining's rmse: 1.48248\tvalid_1's rmse: 1.56962\n",
      "[1900]\ttraining's rmse: 1.47873\tvalid_1's rmse: 1.5695\n",
      "[2000]\ttraining's rmse: 1.47518\tvalid_1's rmse: 1.56942\n",
      "[2100]\ttraining's rmse: 1.47165\tvalid_1's rmse: 1.56931\n",
      "[2200]\ttraining's rmse: 1.46815\tvalid_1's rmse: 1.56932\n",
      "[2300]\ttraining's rmse: 1.46466\tvalid_1's rmse: 1.56919\n",
      "[2400]\ttraining's rmse: 1.46114\tvalid_1's rmse: 1.56923\n",
      "Early stopping, best iteration is:\n",
      "[2242]\ttraining's rmse: 1.46666\tvalid_1's rmse: 1.56917\n",
      "fold 3\n",
      "Training until validation scores don't improve for 200 rounds.\n",
      "[100]\ttraining's rmse: 1.61157\tvalid_1's rmse: 1.60383\n",
      "[200]\ttraining's rmse: 1.58063\tvalid_1's rmse: 1.57979\n",
      "[300]\ttraining's rmse: 1.56473\tvalid_1's rmse: 1.56961\n",
      "[400]\ttraining's rmse: 1.55422\tvalid_1's rmse: 1.56397\n",
      "[500]\ttraining's rmse: 1.5459\tvalid_1's rmse: 1.56042\n",
      "[600]\ttraining's rmse: 1.53888\tvalid_1's rmse: 1.55817\n",
      "[700]\ttraining's rmse: 1.53303\tvalid_1's rmse: 1.55663\n",
      "[800]\ttraining's rmse: 1.52735\tvalid_1's rmse: 1.5556\n",
      "[900]\ttraining's rmse: 1.52235\tvalid_1's rmse: 1.55503\n",
      "[1000]\ttraining's rmse: 1.5177\tvalid_1's rmse: 1.55457\n",
      "[1100]\ttraining's rmse: 1.51321\tvalid_1's rmse: 1.55422\n",
      "[1200]\ttraining's rmse: 1.50895\tvalid_1's rmse: 1.55381\n",
      "[1300]\ttraining's rmse: 1.50487\tvalid_1's rmse: 1.5535\n",
      "[1400]\ttraining's rmse: 1.50097\tvalid_1's rmse: 1.55331\n",
      "[1500]\ttraining's rmse: 1.49709\tvalid_1's rmse: 1.55316\n",
      "[1600]\ttraining's rmse: 1.49328\tvalid_1's rmse: 1.55299\n",
      "[1700]\ttraining's rmse: 1.48933\tvalid_1's rmse: 1.55289\n",
      "[1800]\ttraining's rmse: 1.48556\tvalid_1's rmse: 1.55282\n",
      "[1900]\ttraining's rmse: 1.48185\tvalid_1's rmse: 1.5527\n",
      "[2000]\ttraining's rmse: 1.47839\tvalid_1's rmse: 1.55262\n",
      "[2100]\ttraining's rmse: 1.47486\tvalid_1's rmse: 1.55257\n",
      "[2200]\ttraining's rmse: 1.47131\tvalid_1's rmse: 1.55248\n",
      "[2300]\ttraining's rmse: 1.46792\tvalid_1's rmse: 1.55251\n",
      "[2400]\ttraining's rmse: 1.46433\tvalid_1's rmse: 1.55248\n",
      "[2500]\ttraining's rmse: 1.46079\tvalid_1's rmse: 1.55251\n",
      "Early stopping, best iteration is:\n",
      "[2326]\ttraining's rmse: 1.46698\tvalid_1's rmse: 1.55242\n",
      "fold 4\n",
      "Training until validation scores don't improve for 200 rounds.\n",
      "[100]\ttraining's rmse: 1.6086\tvalid_1's rmse: 1.62151\n",
      "[200]\ttraining's rmse: 1.5782\tvalid_1's rmse: 1.59452\n",
      "[300]\ttraining's rmse: 1.56264\tvalid_1's rmse: 1.58352\n",
      "[400]\ttraining's rmse: 1.55202\tvalid_1's rmse: 1.57704\n",
      "[500]\ttraining's rmse: 1.54376\tvalid_1's rmse: 1.57307\n",
      "[600]\ttraining's rmse: 1.53699\tvalid_1's rmse: 1.57057\n",
      "[700]\ttraining's rmse: 1.53095\tvalid_1's rmse: 1.56901\n",
      "[800]\ttraining's rmse: 1.52554\tvalid_1's rmse: 1.56779\n",
      "[900]\ttraining's rmse: 1.5204\tvalid_1's rmse: 1.56706\n",
      "[1000]\ttraining's rmse: 1.5158\tvalid_1's rmse: 1.56656\n",
      "[1100]\ttraining's rmse: 1.51134\tvalid_1's rmse: 1.56597\n",
      "[1200]\ttraining's rmse: 1.50701\tvalid_1's rmse: 1.5656\n",
      "[1300]\ttraining's rmse: 1.50296\tvalid_1's rmse: 1.56549\n",
      "[1400]\ttraining's rmse: 1.49896\tvalid_1's rmse: 1.56523\n",
      "[1500]\ttraining's rmse: 1.49499\tvalid_1's rmse: 1.56498\n",
      "[1600]\ttraining's rmse: 1.49122\tvalid_1's rmse: 1.56479\n",
      "[1700]\ttraining's rmse: 1.4874\tvalid_1's rmse: 1.56462\n",
      "[1800]\ttraining's rmse: 1.48391\tvalid_1's rmse: 1.56443\n",
      "[1900]\ttraining's rmse: 1.48028\tvalid_1's rmse: 1.56431\n",
      "[2000]\ttraining's rmse: 1.47665\tvalid_1's rmse: 1.56423\n",
      "[2100]\ttraining's rmse: 1.47316\tvalid_1's rmse: 1.56421\n",
      "[2200]\ttraining's rmse: 1.46949\tvalid_1's rmse: 1.56417\n",
      "[2300]\ttraining's rmse: 1.46584\tvalid_1's rmse: 1.56412\n",
      "Early stopping, best iteration is:\n",
      "[2154]\ttraining's rmse: 1.47125\tvalid_1's rmse: 1.56409\n",
      "CV score: 1.55865 \n",
      "CPU times: user 48min 4s, sys: 1min 47s, total: 49min 51s\n",
      "Wall time: 18min 48s\n"
     ]
    }
   ],
   "source": [
    "%%time\n",
    "folds = StratifiedKFold(n_splits=5, shuffle=True, random_state=2333)\n",
    "oof = np.zeros(len(df_train))\n",
    "predictions = np.zeros(len(df_test))\n",
    "feature_importance_df = pd.DataFrame()\n",
    "\n",
    "for fold_, (trn_idx, val_idx) in enumerate(folds.split(df_train,df_train['outliers'].values)):\n",
    "    print(\"fold {}\".format(fold_))\n",
    "    trn_data = lgb.Dataset(df_train.iloc[trn_idx][features], label=target.iloc[trn_idx])#, categorical_feature=categorical_feats)\n",
    "    val_data = lgb.Dataset(df_train.iloc[val_idx][features], label=target.iloc[val_idx])#, categorical_feature=categorical_feats)\n",
    "\n",
    "    num_round = 10000\n",
    "    clf = lgb.train(param, trn_data, num_round, valid_sets = [trn_data, val_data], verbose_eval= 100, early_stopping_rounds = 200)\n",
    "    oof[val_idx] = clf.predict(df_train.iloc[val_idx][features], num_iteration=clf.best_iteration)\n",
    "    \n",
    "    fold_importance_df = pd.DataFrame()\n",
    "    fold_importance_df[\"Feature\"] = features\n",
    "    fold_importance_df[\"importance\"] = clf.feature_importance()\n",
    "    fold_importance_df[\"fold\"] = fold_ + 1\n",
    "    feature_importance_df = pd.concat([feature_importance_df, fold_importance_df], axis=0)\n",
    "    \n",
    "    predictions += clf.predict(df_test[features], num_iteration=clf.best_iteration) / folds.n_splits\n",
    "\n",
    "print(\"CV score: {:<8.5f}\".format(mean_squared_error(oof, target)**0.5))"
   ]
  },
  {
   "cell_type": "code",
   "execution_count": 9,
   "metadata": {
    "_uuid": "4842069eb5b3fa8617b624c1d2fd00940c75137e"
   },
   "outputs": [],
   "source": [
    "model_without_outliers = pd.DataFrame({\"card_id\":df_test[\"card_id\"].values})\n",
    "model_without_outliers[\"target\"] = predictions"
   ]
  },
  {
   "cell_type": "markdown",
   "metadata": {
    "_uuid": "60b9a679754a23f8a07a4e06bf2003abdfbe57db"
   },
   "source": [
    "# Part 2 Training Model For Outliers Classification"
   ]
  },
  {
   "cell_type": "code",
   "execution_count": 10,
   "metadata": {
    "_uuid": "3f28c4be6b16f4e9d9e66d309a1c8f00175653f1"
   },
   "outputs": [
    {
     "name": "stdout",
     "output_type": "stream",
     "text": [
      "CPU times: user 17.8 s, sys: 1.43 s, total: 19.3 s\n",
      "Wall time: 19.8 s\n"
     ]
    }
   ],
   "source": [
    "%%time\n",
    "df_train = pd.read_csv('transformed_train_data.csv')\n",
    "df_test = pd.read_csv('transformed_test_data.csv')\n"
   ]
  },
  {
   "cell_type": "code",
   "execution_count": 11,
   "metadata": {},
   "outputs": [],
   "source": [
    "df_train['outliers'] = (df_train['target'] < -30).astype('int64')"
   ]
  },
  {
   "cell_type": "markdown",
   "metadata": {
    "_uuid": "c2410c958c49b761f042ecdf5619af54730865d3"
   },
   "source": [
    "## using outliers column as labels instead of target column"
   ]
  },
  {
   "cell_type": "code",
   "execution_count": 12,
   "metadata": {
    "_uuid": "19cf3932dbbbc42a8e7e0c50ac7ae4c74fd15f62"
   },
   "outputs": [],
   "source": [
    "target = df_train['outliers']\n",
    "del df_train['outliers']\n",
    "del df_train['target']"
   ]
  },
  {
   "cell_type": "code",
   "execution_count": 13,
   "metadata": {
    "_uuid": "a60cc387b88592ae2ae6ad78f33d6adcce22780d"
   },
   "outputs": [],
   "source": [
    "features = [c for c in df_train.columns if c not in ['card_id', 'first_active_month']]\n",
    "categorical_feats = [c for c in features if 'feature_' in c]"
   ]
  },
  {
   "cell_type": "markdown",
   "metadata": {
    "_uuid": "8867a7ba6c07d9a6c0ee04277960ff4d9c1559a8"
   },
   "source": [
    "## parameters"
   ]
  },
  {
   "cell_type": "code",
   "execution_count": 14,
   "metadata": {
    "_uuid": "b067562422807b5f08688c9c91e22c86998b07c8"
   },
   "outputs": [],
   "source": [
    "param = {'num_leaves': 31,\n",
    "         'min_data_in_leaf': 30, \n",
    "         'objective':'binary',\n",
    "         'max_depth': 6,\n",
    "         'learning_rate': 0.01,\n",
    "         \"boosting\": \"rf\",\n",
    "         \"feature_fraction\": 0.9,\n",
    "         \"bagging_freq\": 1,\n",
    "         \"bagging_fraction\": 0.9 ,\n",
    "         \"bagging_seed\": 11,\n",
    "         \"metric\": 'binary_logloss',\n",
    "         \"lambda_l1\": 0.1,\n",
    "         \"verbosity\": -1,\n",
    "         \"random_state\": 2333}"
   ]
  },
  {
   "cell_type": "markdown",
   "metadata": {
    "_uuid": "7664c74d5ed84d82d0a045b5f2862cf813a52fd8"
   },
   "source": [
    "## training model"
   ]
  },
  {
   "cell_type": "code",
   "execution_count": 15,
   "metadata": {
    "_uuid": "292376354fc58ca097cc04128d31f3117c648653",
    "scrolled": true
   },
   "outputs": [
    {
     "name": "stdout",
     "output_type": "stream",
     "text": [
      "fold n°0\n"
     ]
    },
    {
     "name": "stderr",
     "output_type": "stream",
     "text": [
      "/anaconda/envs/tensorflow/lib/python3.6/site-packages/lightgbm/basic.py:1186: UserWarning: Using categorical_feature in Dataset.\n",
      "  warnings.warn('Using categorical_feature in Dataset.')\n",
      "/anaconda/envs/tensorflow/lib/python3.6/site-packages/lightgbm/basic.py:752: UserWarning: categorical_feature in param dict is overridden.\n",
      "  warnings.warn('categorical_feature in param dict is overridden.')\n"
     ]
    },
    {
     "name": "stdout",
     "output_type": "stream",
     "text": [
      "Training until validation scores don't improve for 200 rounds.\n",
      "[100]\ttraining's binary_logloss: 0.0446375\tvalid_1's binary_logloss: 0.0472483\n",
      "[200]\ttraining's binary_logloss: 0.044623\tvalid_1's binary_logloss: 0.0472331\n",
      "Early stopping, best iteration is:\n",
      "[71]\ttraining's binary_logloss: 0.0446202\tvalid_1's binary_logloss: 0.0472369\n",
      "fold n°1\n",
      "Training until validation scores don't improve for 200 rounds.\n",
      "[100]\ttraining's binary_logloss: 0.0449786\tvalid_1's binary_logloss: 0.0457934\n",
      "[200]\ttraining's binary_logloss: 0.0449465\tvalid_1's binary_logloss: 0.0457732\n",
      "Early stopping, best iteration is:\n",
      "[31]\ttraining's binary_logloss: 0.0449785\tvalid_1's binary_logloss: 0.0457192\n",
      "fold n°2\n",
      "Training until validation scores don't improve for 200 rounds.\n",
      "[100]\ttraining's binary_logloss: 0.0453193\tvalid_1's binary_logloss: 0.0451575\n",
      "[200]\ttraining's binary_logloss: 0.0453964\tvalid_1's binary_logloss: 0.0452476\n",
      "Early stopping, best iteration is:\n",
      "[2]\ttraining's binary_logloss: 0.0457734\tvalid_1's binary_logloss: 0.04476\n",
      "fold n°3\n",
      "Training until validation scores don't improve for 200 rounds.\n",
      "[100]\ttraining's binary_logloss: 0.0435136\tvalid_1's binary_logloss: 0.0504149\n",
      "[200]\ttraining's binary_logloss: 0.0435022\tvalid_1's binary_logloss: 0.0504218\n",
      "Early stopping, best iteration is:\n",
      "[71]\ttraining's binary_logloss: 0.0435162\tvalid_1's binary_logloss: 0.0503915\n",
      "fold n°4\n",
      "Training until validation scores don't improve for 200 rounds.\n",
      "[100]\ttraining's binary_logloss: 0.0448612\tvalid_1's binary_logloss: 0.0453002\n",
      "[200]\ttraining's binary_logloss: 0.0448085\tvalid_1's binary_logloss: 0.0452541\n",
      "[300]\ttraining's binary_logloss: 0.044816\tvalid_1's binary_logloss: 0.0452524\n",
      "Early stopping, best iteration is:\n",
      "[199]\ttraining's binary_logloss: 0.0448081\tvalid_1's binary_logloss: 0.0452513\n",
      "CV score: 0.04667 \n",
      "CPU times: user 7min 5s, sys: 26 s, total: 7min 31s\n",
      "Wall time: 3min 4s\n"
     ]
    }
   ],
   "source": [
    "%%time\n",
    "folds = KFold(n_splits=5, shuffle=True, random_state=15)\n",
    "oof = np.zeros(len(df_train))\n",
    "predictions = np.zeros(len(df_test))\n",
    "feature_importance_df = pd.DataFrame()\n",
    "\n",
    "start = time.time()\n",
    "\n",
    "\n",
    "for fold_, (trn_idx, val_idx) in enumerate(folds.split(df_train.values, target.values)):\n",
    "    print(\"fold n°{}\".format(fold_))\n",
    "    trn_data = lgb.Dataset(df_train.iloc[trn_idx][features], label=target.iloc[trn_idx], categorical_feature=categorical_feats)\n",
    "    val_data = lgb.Dataset(df_train.iloc[val_idx][features], label=target.iloc[val_idx], categorical_feature=categorical_feats)\n",
    "\n",
    "    num_round = 10000\n",
    "    clf = lgb.train(param, trn_data, num_round, valid_sets = [trn_data, val_data], verbose_eval=100, early_stopping_rounds = 200)\n",
    "    oof[val_idx] = clf.predict(df_train.iloc[val_idx][features], num_iteration=clf.best_iteration)\n",
    "    \n",
    "    fold_importance_df = pd.DataFrame()\n",
    "    fold_importance_df[\"feature\"] = features\n",
    "    fold_importance_df[\"importance\"] = clf.feature_importance()\n",
    "    fold_importance_df[\"fold\"] = fold_ + 1\n",
    "    feature_importance_df = pd.concat([feature_importance_df, fold_importance_df], axis=0)\n",
    "    \n",
    "    predictions += clf.predict(df_test[features], num_iteration=clf.best_iteration) / folds.n_splits\n",
    "\n",
    "print(\"CV score: {:<8.5f}\".format(log_loss(target, oof)))"
   ]
  },
  {
   "cell_type": "code",
   "execution_count": 16,
   "metadata": {
    "_uuid": "41f9c7d0a52f8d5669704619fdf76ad1451afaa2",
    "scrolled": true
   },
   "outputs": [
    {
     "data": {
      "text/html": [
       "<div>\n",
       "<style scoped>\n",
       "    .dataframe tbody tr th:only-of-type {\n",
       "        vertical-align: middle;\n",
       "    }\n",
       "\n",
       "    .dataframe tbody tr th {\n",
       "        vertical-align: top;\n",
       "    }\n",
       "\n",
       "    .dataframe thead th {\n",
       "        text-align: right;\n",
       "    }\n",
       "</style>\n",
       "<table border=\"1\" class=\"dataframe\">\n",
       "  <thead>\n",
       "    <tr style=\"text-align: right;\">\n",
       "      <th></th>\n",
       "      <th>card_id</th>\n",
       "      <th>target</th>\n",
       "    </tr>\n",
       "  </thead>\n",
       "  <tbody>\n",
       "    <tr>\n",
       "      <th>0</th>\n",
       "      <td>C_ID_0ab67a22ab</td>\n",
       "      <td>0.071122</td>\n",
       "    </tr>\n",
       "    <tr>\n",
       "      <th>1</th>\n",
       "      <td>C_ID_130fd0cbdd</td>\n",
       "      <td>0.001902</td>\n",
       "    </tr>\n",
       "    <tr>\n",
       "      <th>2</th>\n",
       "      <td>C_ID_b709037bc5</td>\n",
       "      <td>0.006806</td>\n",
       "    </tr>\n",
       "    <tr>\n",
       "      <th>3</th>\n",
       "      <td>C_ID_d27d835a9f</td>\n",
       "      <td>0.001891</td>\n",
       "    </tr>\n",
       "    <tr>\n",
       "      <th>4</th>\n",
       "      <td>C_ID_2b5e3df5c2</td>\n",
       "      <td>0.001891</td>\n",
       "    </tr>\n",
       "  </tbody>\n",
       "</table>\n",
       "</div>"
      ],
      "text/plain": [
       "           card_id    target\n",
       "0  C_ID_0ab67a22ab  0.071122\n",
       "1  C_ID_130fd0cbdd  0.001902\n",
       "2  C_ID_b709037bc5  0.006806\n",
       "3  C_ID_d27d835a9f  0.001891\n",
       "4  C_ID_2b5e3df5c2  0.001891"
      ]
     },
     "execution_count": 16,
     "metadata": {},
     "output_type": "execute_result"
    }
   ],
   "source": [
    "### 'target' is the probability of whether an observation is an outlier\n",
    "df_outlier_prob = pd.DataFrame({\"card_id\":df_test[\"card_id\"].values})\n",
    "df_outlier_prob[\"target\"] = predictions\n",
    "df_outlier_prob.head()"
   ]
  },
  {
   "cell_type": "markdown",
   "metadata": {
    "_uuid": "a6cdbee1c92967a2ecb3924ab58af8d86675df31"
   },
   "source": [
    "# Part 3 Combining Submission:\n",
    "So far so good !\n",
    "We now have three dataset:\n",
    "\n",
    "1. Best Submission\n",
    "2. Prediction Using Model Without Outliers\n",
    "3. Probability of Outliers In Test set\n"
   ]
  },
  {
   "cell_type": "code",
   "execution_count": 17,
   "metadata": {
    "_uuid": "d56e431808a9a70a102491ac7d77e4404e312a4b"
   },
   "outputs": [
    {
     "data": {
      "text/plain": [
       "1310.4038"
      ]
     },
     "execution_count": 17,
     "metadata": {},
     "output_type": "execute_result"
    }
   ],
   "source": [
    "# if the test set has the same ratio of outliers as training set, \n",
    "# then the numbuer of outliers in test is about: (1.06% outliers in training set)\n",
    "123623*0.0106"
   ]
  },
  {
   "cell_type": "code",
   "execution_count": 23,
   "metadata": {
    "_uuid": "40e683026c0e476bae7d15a759b97fa027af977d"
   },
   "outputs": [],
   "source": [
    "# In case missing some predictable outlier, we choose top 25000 with highest outliers likelyhood.\n",
    "outlier_id = pd.DataFrame(df_outlier_prob.sort_values(by='target',ascending = False).head(10000)['card_id'])"
   ]
  },
  {
   "cell_type": "code",
   "execution_count": 24,
   "metadata": {
    "_uuid": "e4c9575fad64e1cf9bd38e48fcf5e988b850189f"
   },
   "outputs": [],
   "source": [
    "best_submission = pd.read_csv('tidy_elo_3.63306.csv')"
   ]
  },
  {
   "cell_type": "code",
   "execution_count": 25,
   "metadata": {
    "_uuid": "7c6f4c87221dd9fa0bf2f87a60e46abbe39f7164",
    "scrolled": true
   },
   "outputs": [
    {
     "data": {
      "text/html": [
       "<div>\n",
       "<style scoped>\n",
       "    .dataframe tbody tr th:only-of-type {\n",
       "        vertical-align: middle;\n",
       "    }\n",
       "\n",
       "    .dataframe tbody tr th {\n",
       "        vertical-align: top;\n",
       "    }\n",
       "\n",
       "    .dataframe thead th {\n",
       "        text-align: right;\n",
       "    }\n",
       "</style>\n",
       "<table border=\"1\" class=\"dataframe\">\n",
       "  <thead>\n",
       "    <tr style=\"text-align: right;\">\n",
       "      <th></th>\n",
       "      <th>card_id</th>\n",
       "      <th>target</th>\n",
       "    </tr>\n",
       "  </thead>\n",
       "  <tbody>\n",
       "    <tr>\n",
       "      <th>0</th>\n",
       "      <td>C_ID_0ab67a22ab</td>\n",
       "      <td>-3.017024</td>\n",
       "    </tr>\n",
       "    <tr>\n",
       "      <th>1</th>\n",
       "      <td>C_ID_7f1041e8e1</td>\n",
       "      <td>-6.830067</td>\n",
       "    </tr>\n",
       "    <tr>\n",
       "      <th>2</th>\n",
       "      <td>C_ID_8eaa79db4f</td>\n",
       "      <td>-4.653352</td>\n",
       "    </tr>\n",
       "    <tr>\n",
       "      <th>3</th>\n",
       "      <td>C_ID_17cb2f55f2</td>\n",
       "      <td>1.552973</td>\n",
       "    </tr>\n",
       "    <tr>\n",
       "      <th>4</th>\n",
       "      <td>C_ID_562a791678</td>\n",
       "      <td>-3.105685</td>\n",
       "    </tr>\n",
       "  </tbody>\n",
       "</table>\n",
       "</div>"
      ],
      "text/plain": [
       "           card_id    target\n",
       "0  C_ID_0ab67a22ab -3.017024\n",
       "1  C_ID_7f1041e8e1 -6.830067\n",
       "2  C_ID_8eaa79db4f -4.653352\n",
       "3  C_ID_17cb2f55f2  1.552973\n",
       "4  C_ID_562a791678 -3.105685"
      ]
     },
     "execution_count": 25,
     "metadata": {},
     "output_type": "execute_result"
    }
   ],
   "source": [
    "most_likely_liers = best_submission.merge(outlier_id,how='right')\n",
    "most_likely_liers.head()"
   ]
  },
  {
   "cell_type": "code",
   "execution_count": 26,
   "metadata": {
    "_uuid": "0f1518b58748e9dd2ef3c1d92f161d03f923bac5"
   },
   "outputs": [
    {
     "name": "stdout",
     "output_type": "stream",
     "text": [
      "CPU times: user 1min 54s, sys: 2.39 s, total: 1min 56s\n",
      "Wall time: 1min 57s\n"
     ]
    }
   ],
   "source": [
    "%%time\n",
    "for card_id in most_likely_liers['card_id']:\n",
    "    model_without_outliers.loc[model_without_outliers['card_id']==card_id,'target']\\\n",
    "    = most_likely_liers.loc[most_likely_liers['card_id']==card_id,'target'].values"
   ]
  },
  {
   "cell_type": "code",
   "execution_count": 27,
   "metadata": {
    "_uuid": "21e2c892dc716481293cb0b34f6b67be3a912aa9"
   },
   "outputs": [],
   "source": [
    "model_without_outliers.to_csv(\"combining_submission.csv\", index=False)"
   ]
  },
  {
   "cell_type": "code",
   "execution_count": null,
   "metadata": {},
   "outputs": [],
   "source": []
  },
  {
   "cell_type": "code",
   "execution_count": null,
   "metadata": {},
   "outputs": [],
   "source": []
  },
  {
   "cell_type": "code",
   "execution_count": null,
   "metadata": {},
   "outputs": [],
   "source": []
  },
  {
   "cell_type": "code",
   "execution_count": null,
   "metadata": {},
   "outputs": [],
   "source": []
  },
  {
   "cell_type": "code",
   "execution_count": null,
   "metadata": {},
   "outputs": [],
   "source": []
  },
  {
   "cell_type": "code",
   "execution_count": null,
   "metadata": {},
   "outputs": [],
   "source": []
  },
  {
   "cell_type": "code",
   "execution_count": null,
   "metadata": {},
   "outputs": [],
   "source": []
  },
  {
   "cell_type": "code",
   "execution_count": null,
   "metadata": {},
   "outputs": [],
   "source": []
  },
  {
   "cell_type": "code",
   "execution_count": null,
   "metadata": {},
   "outputs": [],
   "source": []
  },
  {
   "cell_type": "code",
   "execution_count": null,
   "metadata": {},
   "outputs": [],
   "source": []
  },
  {
   "cell_type": "code",
   "execution_count": null,
   "metadata": {},
   "outputs": [],
   "source": []
  }
 ],
 "metadata": {
  "kernelspec": {
   "display_name": "Python 3",
   "language": "python",
   "name": "python3"
  },
  "language_info": {
   "codemirror_mode": {
    "name": "ipython",
    "version": 3
   },
   "file_extension": ".py",
   "mimetype": "text/x-python",
   "name": "python",
   "nbconvert_exporter": "python",
   "pygments_lexer": "ipython3",
   "version": "3.6.7"
  },
  "toc": {
   "base_numbering": 1,
   "nav_menu": {},
   "number_sections": true,
   "sideBar": true,
   "skip_h1_title": false,
   "title_cell": "Table of Contents",
   "title_sidebar": "Contents",
   "toc_cell": false,
   "toc_position": {},
   "toc_section_display": true,
   "toc_window_display": false
  }
 },
 "nbformat": 4,
 "nbformat_minor": 1
}
