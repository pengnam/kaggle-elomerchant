{
 "cells": [
  {
   "cell_type": "code",
   "execution_count": 1,
   "metadata": {},
   "outputs": [
    {
     "name": "stderr",
     "output_type": "stream",
     "text": [
      "/anaconda/envs/tensorflow/lib/python3.6/importlib/_bootstrap.py:219: RuntimeWarning: numpy.dtype size changed, may indicate binary incompatibility. Expected 96, got 88\n",
      "  return f(*args, **kwds)\n",
      "/anaconda/envs/tensorflow/lib/python3.6/site-packages/lightgbm/__init__.py:46: UserWarning: Starting from version 2.2.1, the library file in distribution wheels for macOS is built by the Apple Clang (Xcode_8.3.1) compiler.\n",
      "This means that in case of installing LightGBM from PyPI via the ``pip install lightgbm`` command, you don't need to install the gcc compiler anymore.\n",
      "Instead of that, you need to install the OpenMP library, which is required for running LightGBM on the system with the Apple Clang compiler.\n",
      "You can install the OpenMP library by the following command: ``brew install libomp``.\n",
      "  \"You can install the OpenMP library by the following command: ``brew install libomp``.\", UserWarning)\n"
     ]
    }
   ],
   "source": [
    "import numpy as np\n",
    "import pandas as pd\n",
    "import time\n",
    "import lightgbm as lgb\n",
    "from sklearn.model_selection import StratifiedKFold, KFold\n",
    "from sklearn.metrics import mean_squared_error\n",
    "from sklearn.metrics import log_loss\n"
   ]
  },
  {
   "cell_type": "code",
   "execution_count": 2,
   "metadata": {},
   "outputs": [],
   "source": [
    "train_df = pd.read_csv(\"transformed_train_data.csv\")\n"
   ]
  },
  {
   "cell_type": "code",
   "execution_count": 3,
   "metadata": {},
   "outputs": [],
   "source": [
    "test_df = pd.read_csv(\"transformed_test_data.csv\")"
   ]
  },
  {
   "cell_type": "code",
   "execution_count": 5,
   "metadata": {},
   "outputs": [],
   "source": [
    "#Removing outlier\n",
    "train_df = train_df[train_df['target']>-30]\n",
    "n_train = len(train_df)\n",
    "target = train_df[\"target\"]\n",
    "train_df = train_df.drop([\"target\"], axis = 1)"
   ]
  },
  {
   "cell_type": "code",
   "execution_count": 29,
   "metadata": {},
   "outputs": [],
   "source": [
    "features = [c for c in train_df.columns if c not in ['card_id', 'first_active_month']]"
   ]
  },
  {
   "cell_type": "code",
   "execution_count": null,
   "metadata": {},
   "outputs": [],
   "source": []
  },
  {
   "cell_type": "code",
   "execution_count": 30,
   "metadata": {},
   "outputs": [],
   "source": [
    "param = {'objective':'regression',\n",
    "         'num_leaves': 31,\n",
    "         'min_data_in_leaf': 25,\n",
    "         'max_depth': 7,\n",
    "         'learning_rate': 0.01,\n",
    "         'lambda_l1':0.13,\n",
    "         \"boosting\": \"gbdt\",\n",
    "         \"feature_fraction\":0.85,\n",
    "         'bagging_freq':8,\n",
    "         \"bagging_fraction\": 0.9 ,\n",
    "         \"metric\": 'rmse',\n",
    "         \"verbosity\": -1,\n",
    "         \"random_state\": 2333}\n"
   ]
  },
  {
   "cell_type": "code",
   "execution_count": 31,
   "metadata": {},
   "outputs": [],
   "source": [
    "import time\n",
    "from sklearn.model_selection import KFold\n",
    "import lightgbm as lgb\n",
    "from sklearn.metrics import mean_squared_error\n",
    "def run_lgbm_cv():\n",
    "    categorical_feats = [\"feature_2\", \"feature_3\"]\n",
    "    folds = KFold(n_splits = 5, shuffle=True, random_state=15)\n",
    "    oof = np.zeros(len(train_df))\n",
    "    predictions = np.zeros(len(test_df))\n",
    "    start = time.time()\n",
    "    feature_importance_df = pd.DataFrame()\n",
    "\n",
    "    for fold_, (trn_idx, val_idx) in enumerate(folds.split(train_df.values, target.values)):\n",
    "        print(\"fold n°{}\".format(fold_))\n",
    "        trn_data = lgb.Dataset(train_df.iloc[trn_idx][features],\n",
    "                               label=target.iloc[trn_idx],\n",
    "                               categorical_feature=categorical_feats\n",
    "                              )\n",
    "        val_data = lgb.Dataset(train_df.iloc[val_idx][features],\n",
    "                               label=target.iloc[val_idx],\n",
    "                               categorical_feature=categorical_feats\n",
    "                              )\n",
    "\n",
    "        num_round = 10000\n",
    "        clf = lgb.train(param,\n",
    "                        trn_data,\n",
    "                        num_round,\n",
    "                        valid_sets = [trn_data, val_data],\n",
    "                        verbose_eval=100,\n",
    "                        early_stopping_rounds = 200)\n",
    "\n",
    "        oof[val_idx] = clf.predict(train_df.iloc[val_idx][features], num_iteration=clf.best_iteration)\n",
    "\n",
    "        fold_importance_df = pd.DataFrame()\n",
    "        fold_importance_df[\"feature\"] = features\n",
    "        fold_importance_df[\"importance\"] = clf.feature_importance()\n",
    "        fold_importance_df[\"fold\"] = fold_ + 1\n",
    "        feature_importance_df = pd.concat([feature_importance_df, fold_importance_df], axis=0)\n",
    "\n",
    "        predictions += clf.predict(test_df[features], num_iteration=clf.best_iteration) / folds.n_splits\n",
    "\n",
    "    print(\"CV score: {:<8.5f}\".format(mean_squared_error(oof, target)**0.5))\n",
    "    return feature_importance_df, predictions"
   ]
  },
  {
   "cell_type": "code",
   "execution_count": null,
   "metadata": {},
   "outputs": [
    {
     "name": "stdout",
     "output_type": "stream",
     "text": [
      "fold n°0\n"
     ]
    },
    {
     "name": "stderr",
     "output_type": "stream",
     "text": [
      "/anaconda/envs/tensorflow/lib/python3.6/site-packages/lightgbm/basic.py:1186: UserWarning: Using categorical_feature in Dataset.\n",
      "  warnings.warn('Using categorical_feature in Dataset.')\n",
      "/anaconda/envs/tensorflow/lib/python3.6/site-packages/lightgbm/basic.py:752: UserWarning: categorical_feature in param dict is overridden.\n",
      "  warnings.warn('categorical_feature in param dict is overridden.')\n"
     ]
    },
    {
     "name": "stdout",
     "output_type": "stream",
     "text": [
      "Training until validation scores don't improve for 200 rounds.\n",
      "[100]\ttraining's rmse: 1.60793\tvalid_1's rmse: 1.62065\n",
      "[200]\ttraining's rmse: 1.57752\tvalid_1's rmse: 1.5957\n",
      "[300]\ttraining's rmse: 1.56167\tvalid_1's rmse: 1.58427\n",
      "[400]\ttraining's rmse: 1.55123\tvalid_1's rmse: 1.57814\n",
      "[500]\ttraining's rmse: 1.54327\tvalid_1's rmse: 1.57454\n",
      "[600]\ttraining's rmse: 1.53623\tvalid_1's rmse: 1.5721\n",
      "[700]\ttraining's rmse: 1.53034\tvalid_1's rmse: 1.57052\n",
      "[800]\ttraining's rmse: 1.52506\tvalid_1's rmse: 1.5694\n",
      "[900]\ttraining's rmse: 1.5202\tvalid_1's rmse: 1.56872\n",
      "[1000]\ttraining's rmse: 1.51543\tvalid_1's rmse: 1.56817\n",
      "[1100]\ttraining's rmse: 1.5109\tvalid_1's rmse: 1.56795\n",
      "[1200]\ttraining's rmse: 1.50666\tvalid_1's rmse: 1.56754\n",
      "[1300]\ttraining's rmse: 1.50263\tvalid_1's rmse: 1.5673\n",
      "[1400]\ttraining's rmse: 1.49878\tvalid_1's rmse: 1.56713\n",
      "[1500]\ttraining's rmse: 1.49483\tvalid_1's rmse: 1.5671\n",
      "[1600]\ttraining's rmse: 1.49085\tvalid_1's rmse: 1.567\n",
      "[1700]\ttraining's rmse: 1.48701\tvalid_1's rmse: 1.56689\n",
      "[1800]\ttraining's rmse: 1.48316\tvalid_1's rmse: 1.56659\n",
      "[1900]\ttraining's rmse: 1.47953\tvalid_1's rmse: 1.56635\n",
      "[2000]\ttraining's rmse: 1.47596\tvalid_1's rmse: 1.56622\n",
      "[2100]\ttraining's rmse: 1.47231\tvalid_1's rmse: 1.56627\n",
      "[2200]\ttraining's rmse: 1.46882\tvalid_1's rmse: 1.56622\n",
      "Early stopping, best iteration is:\n",
      "[2024]\ttraining's rmse: 1.47503\tvalid_1's rmse: 1.56617\n",
      "fold n°1\n",
      "Training until validation scores don't improve for 200 rounds.\n",
      "[100]\ttraining's rmse: 1.60896\tvalid_1's rmse: 1.61698\n",
      "[200]\ttraining's rmse: 1.5784\tvalid_1's rmse: 1.59083\n",
      "[300]\ttraining's rmse: 1.5626\tvalid_1's rmse: 1.57976\n",
      "[400]\ttraining's rmse: 1.55215\tvalid_1's rmse: 1.57383\n",
      "[500]\ttraining's rmse: 1.54364\tvalid_1's rmse: 1.56998\n",
      "[600]\ttraining's rmse: 1.53682\tvalid_1's rmse: 1.56775\n",
      "[700]\ttraining's rmse: 1.53078\tvalid_1's rmse: 1.56616\n",
      "[800]\ttraining's rmse: 1.52532\tvalid_1's rmse: 1.5651\n",
      "[900]\ttraining's rmse: 1.52024\tvalid_1's rmse: 1.56443\n",
      "[1000]\ttraining's rmse: 1.51556\tvalid_1's rmse: 1.56378\n",
      "[1100]\ttraining's rmse: 1.5111\tvalid_1's rmse: 1.56338\n",
      "[1200]\ttraining's rmse: 1.50699\tvalid_1's rmse: 1.56313\n",
      "[1300]\ttraining's rmse: 1.50275\tvalid_1's rmse: 1.56285\n",
      "[1400]\ttraining's rmse: 1.4986\tvalid_1's rmse: 1.56268\n",
      "[1500]\ttraining's rmse: 1.49461\tvalid_1's rmse: 1.56252\n",
      "[1600]\ttraining's rmse: 1.49087\tvalid_1's rmse: 1.56236\n",
      "[1700]\ttraining's rmse: 1.48693\tvalid_1's rmse: 1.56208\n",
      "[1800]\ttraining's rmse: 1.48322\tvalid_1's rmse: 1.56214\n",
      "Early stopping, best iteration is:\n",
      "[1699]\ttraining's rmse: 1.48698\tvalid_1's rmse: 1.56208\n",
      "fold n°2\n",
      "Training until validation scores don't improve for 200 rounds.\n",
      "[100]\ttraining's rmse: 1.61394\tvalid_1's rmse: 1.59595\n",
      "[200]\ttraining's rmse: 1.58351\tvalid_1's rmse: 1.56975\n",
      "[300]\ttraining's rmse: 1.56791\tvalid_1's rmse: 1.55863\n",
      "[400]\ttraining's rmse: 1.55742\tvalid_1's rmse: 1.55255\n",
      "[500]\ttraining's rmse: 1.54902\tvalid_1's rmse: 1.5486\n",
      "[600]\ttraining's rmse: 1.54197\tvalid_1's rmse: 1.54613\n",
      "[700]\ttraining's rmse: 1.53587\tvalid_1's rmse: 1.54452\n",
      "[800]\ttraining's rmse: 1.53039\tvalid_1's rmse: 1.54353\n",
      "[900]\ttraining's rmse: 1.52537\tvalid_1's rmse: 1.54289\n",
      "[1000]\ttraining's rmse: 1.52062\tvalid_1's rmse: 1.54246\n",
      "[1100]\ttraining's rmse: 1.51611\tvalid_1's rmse: 1.54197\n",
      "[1200]\ttraining's rmse: 1.51159\tvalid_1's rmse: 1.54176\n",
      "[1300]\ttraining's rmse: 1.50743\tvalid_1's rmse: 1.54166\n",
      "[1400]\ttraining's rmse: 1.50337\tvalid_1's rmse: 1.54149\n",
      "[1500]\ttraining's rmse: 1.49921\tvalid_1's rmse: 1.54118\n",
      "[1600]\ttraining's rmse: 1.49542\tvalid_1's rmse: 1.54103\n",
      "[1700]\ttraining's rmse: 1.49167\tvalid_1's rmse: 1.5408\n",
      "[1800]\ttraining's rmse: 1.48773\tvalid_1's rmse: 1.54078\n",
      "[1900]\ttraining's rmse: 1.48405\tvalid_1's rmse: 1.54071\n",
      "[2000]\ttraining's rmse: 1.48049\tvalid_1's rmse: 1.54065\n",
      "[2100]\ttraining's rmse: 1.47683\tvalid_1's rmse: 1.54061\n",
      "[2200]\ttraining's rmse: 1.47328\tvalid_1's rmse: 1.54067\n",
      "[2300]\ttraining's rmse: 1.46975\tvalid_1's rmse: 1.5408\n",
      "Early stopping, best iteration is:\n",
      "[2112]\ttraining's rmse: 1.47638\tvalid_1's rmse: 1.54054\n",
      "fold n°3\n",
      "Training until validation scores don't improve for 200 rounds.\n",
      "[100]\ttraining's rmse: 1.60898\tvalid_1's rmse: 1.61718\n",
      "[200]\ttraining's rmse: 1.57832\tvalid_1's rmse: 1.59067\n",
      "[300]\ttraining's rmse: 1.56277\tvalid_1's rmse: 1.5793\n",
      "[400]\ttraining's rmse: 1.55224\tvalid_1's rmse: 1.5731\n",
      "[500]\ttraining's rmse: 1.54401\tvalid_1's rmse: 1.56943\n",
      "[600]\ttraining's rmse: 1.53711\tvalid_1's rmse: 1.56712\n",
      "[700]\ttraining's rmse: 1.53103\tvalid_1's rmse: 1.56552\n",
      "[800]\ttraining's rmse: 1.52555\tvalid_1's rmse: 1.56458\n",
      "[900]\ttraining's rmse: 1.5206\tvalid_1's rmse: 1.56389\n",
      "[1000]\ttraining's rmse: 1.51572\tvalid_1's rmse: 1.5634\n",
      "[1100]\ttraining's rmse: 1.51119\tvalid_1's rmse: 1.5631\n",
      "[1200]\ttraining's rmse: 1.50693\tvalid_1's rmse: 1.56294\n",
      "[1300]\ttraining's rmse: 1.50271\tvalid_1's rmse: 1.56269\n",
      "[1400]\ttraining's rmse: 1.49869\tvalid_1's rmse: 1.56245\n",
      "[1500]\ttraining's rmse: 1.49479\tvalid_1's rmse: 1.56257\n",
      "[1600]\ttraining's rmse: 1.49098\tvalid_1's rmse: 1.56243\n",
      "Early stopping, best iteration is:\n",
      "[1408]\ttraining's rmse: 1.49832\tvalid_1's rmse: 1.56243\n",
      "fold n°4\n",
      "Training until validation scores don't improve for 200 rounds.\n",
      "[100]\ttraining's rmse: 1.60822\tvalid_1's rmse: 1.62001\n",
      "[200]\ttraining's rmse: 1.57793\tvalid_1's rmse: 1.59325\n"
     ]
    }
   ],
   "source": [
    "feature_importance_df, predictions = run_lgbm_cv()"
   ]
  },
  {
   "cell_type": "code",
   "execution_count": null,
   "metadata": {},
   "outputs": [],
   "source": []
  }
 ],
 "metadata": {
  "kernelspec": {
   "display_name": "Python 3",
   "language": "python",
   "name": "python3"
  },
  "language_info": {
   "codemirror_mode": {
    "name": "ipython",
    "version": 3
   },
   "file_extension": ".py",
   "mimetype": "text/x-python",
   "name": "python",
   "nbconvert_exporter": "python",
   "pygments_lexer": "ipython3",
   "version": "3.6.7"
  }
 },
 "nbformat": 4,
 "nbformat_minor": 2
}
